{
 "cells": [
  {
   "cell_type": "markdown",
   "metadata": {},
   "source": [
    "# FIFA $-$ PARSER"
   ]
  },
  {
   "cell_type": "code",
   "execution_count": 2,
   "metadata": {},
   "outputs": [],
   "source": [
    "import os\n",
    "import json\n",
    "import pandas as pd\n",
    "from time import sleep\n",
    "from selenium import webdriver\n",
    "from selenium.webdriver.common.keys import Keys\n",
    "from selenium.webdriver.common.by import By\n",
    "from selenium.webdriver.support.wait import WebDriverWait\n",
    "from selenium.webdriver.support import expected_conditions as EC\n",
    "from selenium.webdriver.chrome.options import Options\n",
    "from PIL import Image\n",
    "from selenium.webdriver.common.actions.pointer_actions import PointerActions\n",
    "from selenium.webdriver.common.action_chains import ActionChains"
   ]
  },
  {
   "cell_type": "code",
   "execution_count": 34,
   "metadata": {},
   "outputs": [],
   "source": [
    "# Ссылки:\n",
    "url = [\n",
    "    \"https://sofifa.com/?r=240050&set=true&showCol%5B0%5D=ae&showCol%5B1%5D=hi&showCol%5B2%5D=wi&showCol%5B3%5D=pf&showCol%5B4%5D=oa&showCol%5B5%5D=pt&showCol%5B6%5D=bo&showCol%5B7%5D=vl&showCol%5B8%5D=wg&offset=\",\n",
    "    \"https://sofifa.com/?r=230054&set=true&showCol%5B0%5D=ae&showCol%5B1%5D=hi&showCol%5B2%5D=wi&showCol%5B3%5D=pf&showCol%5B4%5D=oa&showCol%5B5%5D=bo&showCol%5B6%5D=vl&showCol%5B7%5D=wg&showCol%5B8%5D=pt&offset=\",\n",
    "    \"https://sofifa.com/?r=210064&set=true&showCol%5B0%5D=ae&showCol%5B1%5D=hi&showCol%5B2%5D=wi&showCol%5B3%5D=pf&showCol%5B4%5D=oa&showCol%5B5%5D=pt&showCol%5B6%5D=bo&showCol%5B7%5D=vl&showCol%5B8%5D=wg&offset=\",\n",
    "    \"https://sofifa.com/?r=200061&set=true&showCol%5B0%5D=ae&showCol%5B1%5D=hi&showCol%5B2%5D=wi&showCol%5B3%5D=pf&showCol%5B4%5D=oa&showCol%5B5%5D=pt&showCol%5B6%5D=bo&showCol%5B7%5D=vl&showCol%5B8%5D=wg&offset=\",\n",
    "    \"https://sofifa.com/?r=190075&set=true&showCol%5B0%5D=ae&showCol%5B1%5D=hi&showCol%5B2%5D=wi&showCol%5B3%5D=pf&showCol%5B4%5D=oa&showCol%5B5%5D=pt&showCol%5B6%5D=bo&showCol%5B7%5D=vl&showCol%5B8%5D=wg&offset=\",\n",
    "    \"https://sofifa.com/?r=180084&set=true&showCol%5B0%5D=ae&showCol%5B1%5D=hi&showCol%5B2%5D=wi&showCol%5B3%5D=pf&showCol%5B4%5D=oa&showCol%5B5%5D=pt&showCol%5B6%5D=bo&showCol%5B7%5D=vl&showCol%5B8%5D=wg&offset=\",\n",
    "    \"https://sofifa.com/?r=170099&set=true&showCol%5B0%5D=ae&showCol%5B1%5D=hi&showCol%5B2%5D=wi&showCol%5B3%5D=pf&showCol%5B4%5D=oa&showCol%5B5%5D=pt&showCol%5B6%5D=bo&showCol%5B7%5D=vl&showCol%5B8%5D=wg&offset=\",\n",
    "    \"https://sofifa.com/?r=160058&set=true&showCol%5B0%5D=ae&showCol%5B1%5D=hi&showCol%5B2%5D=wi&showCol%5B3%5D=pf&showCol%5B4%5D=oa&showCol%5B5%5D=pt&showCol%5B6%5D=bo&showCol%5B7%5D=vl&showCol%5B8%5D=wg&offset=\",\n",
    "    \"https://sofifa.com/?r=150059&set=true&showCol%5B0%5D=ae&showCol%5B1%5D=hi&showCol%5B2%5D=wi&showCol%5B3%5D=pf&showCol%5B4%5D=oa&showCol%5B5%5D=pt&showCol%5B6%5D=bo&showCol%5B7%5D=vl&showCol%5B8%5D=wg&offset=\",\n",
    "    \"https://sofifa.com/?r=140052&set=true&showCol%5B0%5D=ae&showCol%5B1%5D=hi&showCol%5B2%5D=wi&showCol%5B3%5D=pf&showCol%5B4%5D=oa&showCol%5B5%5D=pt&showCol%5B6%5D=bo&showCol%5B7%5D=vl&showCol%5B8%5D=wg&offset=\",\n",
    "    \"https://sofifa.com/?r=130034&set=true&showCol%5B0%5D=ae&showCol%5B1%5D=hi&showCol%5B2%5D=wi&showCol%5B3%5D=pf&showCol%5B4%5D=oa&showCol%5B5%5D=pt&showCol%5B6%5D=bo&showCol%5B7%5D=vl&showCol%5B8%5D=wg&offset=\",\n",
    "    \"https://sofifa.com/?r=120002&set=true&showCol%5B0%5D=ae&showCol%5B1%5D=hi&showCol%5B2%5D=wi&showCol%5B3%5D=pf&showCol%5B4%5D=oa&showCol%5B5%5D=pt&showCol%5B6%5D=bo&showCol%5B7%5D=vl&showCol%5B8%5D=wg&offset=\"\n",
    "\n",
    "]\n",
    "ranges = [18600, 18720, 18900, 19560, 18000, 17940, 17580, 17040, 16440, 16640, 15000, 14460]\n",
    "ranges = [int(i/60) for i in ranges]\n"
   ]
  },
  {
   "cell_type": "code",
   "execution_count": null,
   "metadata": {},
   "outputs": [],
   "source": [
    "# 12\n",
    "os.chdir(r\"C:\\Users\\alexv\\Desktop\\FIFA_12\")\n",
    "driver = webdriver.Chrome()\n",
    "for i in range(0,ranges[-1]+1):\n",
    "    driver.get(url[-1]+f\"{int(60*i)}\")\n",
    "    data = driver.find_element(By.CSS_SELECTOR, 'tbody')\n",
    "    data = data.text\n",
    "    with open(f\"FC24-{i}.txt\", mode='w', encoding='utf-8') as file:\n",
    "        data = json.dumps(data)\n",
    "        file.write(data)\n",
    "    del data\n",
    "    sleep(20)\n",
    "driver.close()\n"
   ]
  },
  {
   "cell_type": "code",
   "execution_count": null,
   "metadata": {},
   "outputs": [],
   "source": []
  },
  {
   "cell_type": "code",
   "execution_count": 8,
   "metadata": {},
   "outputs": [],
   "source": [
    "#13\n",
    "os.chdir(r\"C:\\Users\\alexv\\Desktop\\FIFA_13\")\n",
    "for i in range(186,ranges[-2]+1):\n",
    "    driver = webdriver.Chrome()\n",
    "    driver.get(url[-2]+f\"{int(60*i)}\")\n",
    "    sleep(30)\n",
    "    data = driver.find_element(By.CSS_SELECTOR, 'tbody')\n",
    "    data = data.text\n",
    "    with open(f\"FC24-{i}.txt\", mode='w', encoding='utf-8') as file:\n",
    "        data = json.dumps(data)\n",
    "        file.write(data)\n",
    "    del data\n",
    "    driver.close()"
   ]
  },
  {
   "cell_type": "code",
   "execution_count": null,
   "metadata": {},
   "outputs": [],
   "source": []
  },
  {
   "cell_type": "code",
   "execution_count": 9,
   "metadata": {},
   "outputs": [],
   "source": [
    "#14\n",
    "os.chdir(r\"C:\\Users\\alexv\\Desktop\\FIFA_14\")\n",
    "\n",
    "for i in range(0,ranges[-3]+1):\n",
    "    driver = webdriver.Chrome()\n",
    "    driver.get(url[-3]+f\"{int(60*i)}\")\n",
    "    sleep(30)\n",
    "    data = driver.find_element(By.CSS_SELECTOR, 'tbody')\n",
    "    data = data.text\n",
    "    with open(f\"FC24-{i}.txt\", mode='w', encoding='utf-8') as file:\n",
    "        data = json.dumps(data)\n",
    "        file.write(data)\n",
    "    del data\n",
    "    driver.close()\n",
    "    del driver"
   ]
  },
  {
   "cell_type": "code",
   "execution_count": null,
   "metadata": {},
   "outputs": [],
   "source": []
  },
  {
   "cell_type": "code",
   "execution_count": 11,
   "metadata": {},
   "outputs": [],
   "source": [
    "#15\n",
    "os.chdir(r\"C:\\Users\\alexv\\Desktop\\FIFA_15\")\n",
    "\n",
    "for i in range(44,ranges[-4]+1):\n",
    "    driver = webdriver.Chrome()\n",
    "    driver.get(url[-4]+f\"{int(60*i)}\")\n",
    "    sleep(10)\n",
    "    data = driver.find_element(By.CSS_SELECTOR, 'tbody')\n",
    "    data = data.text\n",
    "    with open(f\"FC24-{i}.txt\", mode='w', encoding='utf-8') as file:\n",
    "        data = json.dumps(data)\n",
    "        file.write(data)\n",
    "    del data\n",
    "    driver.close()\n",
    "    del driver"
   ]
  },
  {
   "cell_type": "code",
   "execution_count": null,
   "metadata": {},
   "outputs": [],
   "source": []
  },
  {
   "cell_type": "code",
   "execution_count": 15,
   "metadata": {},
   "outputs": [],
   "source": [
    "#16\n",
    "os.chdir(r\"C:\\Users\\alexv\\Desktop\\FIFA_16\")\n",
    "\n",
    "for i in range(274,ranges[-5]+1):\n",
    "    options = Options()\n",
    "    options.page_load_strategy = 'eager'\n",
    "    driver = webdriver.Chrome(options=options)\n",
    "    driver.get(url[-5]+f\"{int(60*i)}\")\n",
    "    sleep(8)\n",
    "    data = driver.find_element(By.CSS_SELECTOR, 'tbody')\n",
    "    data = data.text\n",
    "    with open(f\"FC24-{i}.txt\", mode='w', encoding='utf-8') as file:\n",
    "        data = json.dumps(data)\n",
    "        file.write(data)\n",
    "    del data\n",
    "    driver.close()\n",
    "    del driver"
   ]
  },
  {
   "cell_type": "code",
   "execution_count": null,
   "metadata": {},
   "outputs": [],
   "source": []
  },
  {
   "cell_type": "code",
   "execution_count": 18,
   "metadata": {},
   "outputs": [],
   "source": [
    "#17\n",
    "os.chdir(r\"C:\\Users\\alexv\\Desktop\\FIFA_17\")\n",
    "\n",
    "for i in range(53,ranges[-6]+1):\n",
    "    options = Options()\n",
    "    options.page_load_strategy = 'eager'\n",
    "    driver = webdriver.Chrome(options=options)\n",
    "    driver.get(url[-6]+f\"{int(60*i)}\")\n",
    "    sleep(8)\n",
    "    data = driver.find_element(By.CSS_SELECTOR, 'tbody')\n",
    "    data = data.text\n",
    "    with open(f\"FC24-{i}.txt\", mode='w', encoding='utf-8') as file:\n",
    "        data = json.dumps(data)\n",
    "        file.write(data)\n",
    "    del data\n",
    "    driver.close()\n",
    "    del driver"
   ]
  },
  {
   "cell_type": "code",
   "execution_count": null,
   "metadata": {},
   "outputs": [],
   "source": []
  },
  {
   "cell_type": "code",
   "execution_count": 23,
   "metadata": {},
   "outputs": [],
   "source": [
    "#18\n",
    "os.chdir(r\"C:\\Users\\alexv\\Desktop\\FIFA_18\")\n",
    "\n",
    "for i in range(85,ranges[-7]+1):\n",
    "    options = Options()\n",
    "    options.page_load_strategy = 'eager'\n",
    "    driver = webdriver.Chrome(options=options)\n",
    "    driver.get(url[-7]+f\"{int(60*i)}\")\n",
    "    sleep(8)\n",
    "    data = driver.find_element(By.CSS_SELECTOR, 'tbody')\n",
    "    data = data.text\n",
    "    with open(f\"FC24-{i}.txt\", mode='w', encoding='utf-8') as file:\n",
    "        data = json.dumps(data)\n",
    "        file.write(data)\n",
    "    del data\n",
    "    driver.close()\n",
    "    del driver"
   ]
  },
  {
   "cell_type": "code",
   "execution_count": 3,
   "metadata": {},
   "outputs": [],
   "source": [
    "#19\n",
    "os.chdir(r\"C:\\Users\\alexv\\Desktop\\FIFA_19\")\n",
    "\n",
    "for i in range(115,ranges[-8]+1):\n",
    "    options = Options()\n",
    "    options.page_load_strategy = 'eager'\n",
    "    driver = webdriver.Chrome(options=options)\n",
    "    driver.get(url[-8]+f\"{int(60*i)}\")\n",
    "    sleep(8)\n",
    "    data = driver.find_element(By.CSS_SELECTOR, 'tbody')\n",
    "    data = data.text\n",
    "    with open(f\"FC24-{i}.txt\", mode='w', encoding='utf-8') as file:\n",
    "        data = json.dumps(data)\n",
    "        file.write(data)\n",
    "    del data\n",
    "    driver.close()\n",
    "    del driver"
   ]
  },
  {
   "cell_type": "code",
   "execution_count": null,
   "metadata": {},
   "outputs": [],
   "source": []
  },
  {
   "cell_type": "code",
   "execution_count": 4,
   "metadata": {},
   "outputs": [],
   "source": [
    "#20\n",
    "os.chdir(r\"C:\\Users\\alexv\\Desktop\\FIFA_20\")\n",
    "\n",
    "for i in range(0,ranges[-9]+1):\n",
    "    options = Options()\n",
    "    options.page_load_strategy = 'eager'\n",
    "    driver = webdriver.Chrome(options=options)\n",
    "    driver.get(url[-9]+f\"{int(60*i)}\")\n",
    "    sleep(8)\n",
    "    data = driver.find_element(By.CSS_SELECTOR, 'tbody')\n",
    "    data = data.text\n",
    "    with open(f\"FC24-{i}.txt\", mode='w', encoding='utf-8') as file:\n",
    "        data = json.dumps(data)\n",
    "        file.write(data)\n",
    "    del data\n",
    "    driver.close()\n",
    "    del driver"
   ]
  },
  {
   "cell_type": "code",
   "execution_count": null,
   "metadata": {},
   "outputs": [],
   "source": []
  },
  {
   "cell_type": "code",
   "execution_count": 5,
   "metadata": {},
   "outputs": [],
   "source": [
    "#21\n",
    "os.chdir(r\"C:\\Users\\alexv\\Desktop\\FIFA_21\")\n",
    "\n",
    "for i in range(0,ranges[-10]+1):\n",
    "    options = Options()\n",
    "    options.page_load_strategy = 'eager'\n",
    "    driver = webdriver.Chrome(options=options)\n",
    "    driver.get(url[-10]+f\"{int(60*i)}\")\n",
    "    sleep(8)\n",
    "    data = driver.find_element(By.CSS_SELECTOR, 'tbody')\n",
    "    data = data.text\n",
    "    with open(f\"FC24-{i}.txt\", mode='w', encoding='utf-8') as file:\n",
    "        data = json.dumps(data)\n",
    "        file.write(data)\n",
    "    del data\n",
    "    driver.close()\n",
    "    del driver"
   ]
  },
  {
   "cell_type": "code",
   "execution_count": null,
   "metadata": {},
   "outputs": [],
   "source": []
  },
  {
   "cell_type": "code",
   "execution_count": 6,
   "metadata": {},
   "outputs": [],
   "source": [
    "#23\n",
    "os.chdir(r\"C:\\Users\\alexv\\Desktop\\FIFA_23\")\n",
    "\n",
    "for i in range(0,ranges[-11]+1):\n",
    "    options = Options()\n",
    "    options.page_load_strategy = 'eager'\n",
    "    driver = webdriver.Chrome(options=options)\n",
    "    driver.get(url[-11]+f\"{int(60*i)}\")\n",
    "    sleep(8)\n",
    "    data = driver.find_element(By.CSS_SELECTOR, 'tbody')\n",
    "    data = data.text\n",
    "    with open(f\"FC24-{i}.txt\", mode='w', encoding='utf-8') as file:\n",
    "        data = json.dumps(data)\n",
    "        file.write(data)\n",
    "    del data\n",
    "    driver.close()\n",
    "    del driver"
   ]
  },
  {
   "cell_type": "code",
   "execution_count": null,
   "metadata": {},
   "outputs": [],
   "source": []
  },
  {
   "cell_type": "code",
   "execution_count": 7,
   "metadata": {},
   "outputs": [],
   "source": [
    "#24\n",
    "os.chdir(r\"C:\\Users\\alexv\\Desktop\\FIFA_24\")\n",
    "\n",
    "for i in range(0,ranges[-12]+1):\n",
    "    options = Options()\n",
    "    options.page_load_strategy = 'eager'\n",
    "    driver = webdriver.Chrome(options=options)\n",
    "    driver.get(url[-12]+f\"{int(60*i)}\")\n",
    "    sleep(8)\n",
    "    data = driver.find_element(By.CSS_SELECTOR, 'tbody')\n",
    "    data = data.text\n",
    "    with open(f\"FC24-{i}.txt\", mode='w', encoding='utf-8') as file:\n",
    "        data = json.dumps(data)\n",
    "        file.write(data)\n",
    "    del data\n",
    "    driver.close()\n",
    "    del driver"
   ]
  },
  {
   "cell_type": "code",
   "execution_count": null,
   "metadata": {},
   "outputs": [],
   "source": []
  }
 ],
 "metadata": {
  "kernelspec": {
   "display_name": "Python 3",
   "language": "python",
   "name": "python3"
  },
  "language_info": {
   "codemirror_mode": {
    "name": "ipython",
    "version": 3
   },
   "file_extension": ".py",
   "mimetype": "text/x-python",
   "name": "python",
   "nbconvert_exporter": "python",
   "pygments_lexer": "ipython3",
   "version": "3.12.7"
  }
 },
 "nbformat": 4,
 "nbformat_minor": 2
}
