{
 "cells": [
  {
   "cell_type": "markdown",
   "metadata": {},
   "source": [
    "# URAIT $-$ parser"
   ]
  },
  {
   "cell_type": "code",
   "execution_count": 34,
   "metadata": {},
   "outputs": [],
   "source": [
    "# импортирование библиотек\n",
    "import os\n",
    "import json\n",
    "import sympy\n",
    "import pandas as pd\n",
    "import numpy as np\n",
    "import matplotlib.pyplot as plt\n",
    "from time import sleep\n",
    "import requests\n",
    "from selenium import webdriver\n",
    "from selenium.webdriver.common.keys import Keys\n",
    "from selenium.webdriver.common.by import By\n",
    "from bs4 import BeautifulSoup\n",
    "from PIL import Image\n",
    "import sys\n",
    "from selenium.webdriver.support.wait import WebDriverWait\n",
    "from selenium.webdriver.support import expected_conditions as EC\n",
    "from selenium.webdriver.chrome.options import Options"
   ]
  },
  {
   "cell_type": "code",
   "execution_count": 2,
   "metadata": {},
   "outputs": [],
   "source": [
    "# создание пути\n",
    "path = os.path.join(os.path.join(os.environ['USERPROFILE']), 'Downloads')\n",
    "os.mkdir(path+r'/'+'temp')\n",
    "os.chdir(path+r'/'+'temp')"
   ]
  },
  {
   "cell_type": "code",
   "execution_count": 3,
   "metadata": {},
   "outputs": [],
   "source": [
    "# необходимые функции\n",
    "def save_image_from_binary(binary_data, filename):\n",
    "    with open(filename, mode='wb') as file:\n",
    "        file.write(binary_data)"
   ]
  },
  {
   "cell_type": "code",
   "execution_count": 4,
   "metadata": {},
   "outputs": [],
   "source": [
    "# # получение ссылки на книгу #\n",
    "# url = input(\"Введите ссылку на книгу, которую хотите скачать: \\n\")\n",
    "# login = input(\"Введите логин: \\n\")\n",
    "# password = input(\"Введите пароль: \\n\")\n",
    "login = \"alexeykarasev2005@gmail.com\"\n",
    "password= \"TFPM8b6@kf9tAju\"\n",
    "url = \"https://urait.ru/book/teoriya-grafov-algebraicheskaya-teoriya-557688\"\n",
    "\n",
    "r = requests.get(url)\n",
    "if 'https://urait.ru/book/' in url and r.status_code==200:\n",
    "    print(\"Получаем информацию о книге...\")\n",
    "else:\n",
    "    print(\"Введите корректную ссылку\")\n",
    "    sleep(3)\n",
    "    sys.exit(1)  \n",
    "options = Options()\n",
    "options.page_load_strategy = 'eager'\n",
    "options.add_argument(\"--start-maximized\")\n",
    "options.add_argument(\"--headless\")\n",
    "driver = webdriver.Chrome(options=options)\n",
    "driver.execute_script(\"document.body.style.zoom='50%'\")\n",
    "driver.get(f'https://urait.ru/viewer/{url.lstrip(\"https://urait.ru/book\")}#page/{1}')\n",
    "sleep(5)\n",
    "button = driver.find_element(By.ID, \"viewer__header__auth\")\n",
    "auth_1 = driver.find_element(By.ID, 'email')\n",
    "auth_1.send_keys(login)\n",
    "sleep(3)\n",
    "auth_2 = driver.find_element(By.ID, 'password')\n",
    "auth_2.send_keys(password)\n",
    "button_ = driver.find_element(By.CLASS_NAME, \"button-orange content-center-form__enter-button\")\n",
    "button_.click()\n",
    "\n",
    "\n",
    "# # нажимаем нужные кнопки #\n",
    "# button_1 = driver.find_element(By.CLASS_NAME, \"popup-btn-close\")\n",
    "# button_1.click()\n",
    "# sleep(3)\n",
    "# button_2 = driver.find_element(By.XPATH, \"//button[@data-click='register_agreement']\")\n",
    "# button_2.click()\n",
    "# sleep(3)\n",
    "# book_name = driver.find_element(By.CLASS_NAME, \"page-content-head__title\")\n",
    "# book_author = driver.find_element(By.CLASS_NAME, \"creation-info__authors\")\n",
    "# book_pages = driver.find_element(By.CLASS_NAME, \"book-about-produce__info\")\n",
    "# # button_3 = driver.find_element(By.XPATH, \"//a[@href='/login']\")\n",
    "# # button_3.click()\n",
    "# sleep(10)\n",
    "# # авторизуемся #\n",
    "# # auth_1 = driver.find_element(By.ID, 'email')\n",
    "# # auth_1.send_keys(login)\n",
    "# # sleep(3)\n",
    "# # auth_2 = driver.find_element(By.ID, 'password')\n",
    "# # auth_2.send_keys(password)\n",
    "# # sleep(3)\n",
    "# # auth_button = driver.find_element(By.CLASS_NAME, \"button-orange.content-center-form__enter-button\")\n",
    "# # auth_button.click()\n",
    "# sleep(10)\n",
    "# # button_4 = driver.find_element(By.CLASS_NAME, \"btn\")\n",
    "# # button_4.click()\n",
    "# # sleep(3)\n",
    "# # final_button = driver.find_element(By.XPATH, '//a[contains(@class, \"button-green\") and text()=\"Изучить\"]')\n",
    "# # final_button.click()\n",
    "# # sleep(3)\n",
    "\n",
    "# # получаем добро на парсинг #\n",
    "# # print(f'Название книги: {book_name.text}',f'Автор(ы) книги: {book_author.text.strip('. Подробнее')}',f'Число страниц: {book_pages.text}',sep='\\n')\n",
    "# sleep(10)\n",
    "for i in range(1, 2):\n",
    "    driver.get(f'https://urait.ru/viewer/{url.lstrip(\"https://urait.ru/book\")}#page/{i}')\n",
    "    driver.execute_script(\"document.body.style.zoom='50%'\")\n",
    "    sleep(10)\n",
    "    data = driver.get_screenshot_as_png()\n",
    "    save_image_from_binary(data, f'Page-{i}.png')\n",
    "    im = Image.open(f\"Page-{i}.png\")\n",
    "    new_im = im.crop((800, 100, 1700, 1450))\n",
    "    new_im.save(f\"Result-{i}.png\", quality=100)\n",
    "\n",
    "# # Собираем все файлы png #\n",
    "# images = []\n",
    "# pages = sorted([i for i in os.listdir(path) if 'Result' in i])\n",
    "# for i in pages:\n",
    "#     images.append(Image.open(path+r'/'+str(i)))\n",
    "# images = [img.convert('RGB') for img in images]\n",
    "# # Создаем общий файл pdf #\n",
    "# os.chdir(path)\n",
    "# images[0].save(f\"{book_author}-{book_name}\", save_all=True, append_images=images[1:], resolution=100.0)\n",
    "# os.remove(path+r'/'+'temp')\n",
    "# print(\"Работа программы завершена\")\n",
    "# sleep(3)\n",
    "# driver.close()"
   ]
  },
  {
   "cell_type": "code",
   "execution_count": 5,
   "metadata": {},
   "outputs": [],
   "source": [
    "# os.chdir(r\"C:\\Users\\alexv\\Downloads\\temp\")\n",
    "# driver = webdriver.Chrome()\n",
    "# driver.get(r'https://store.steampowered.com/?l=russian')\n",
    "# data = driver.get_screenshot_as_png()\n",
    "# save_image_from_binary(data, \"test.png\")"
   ]
  },
  {
   "cell_type": "code",
   "execution_count": 6,
   "metadata": {},
   "outputs": [],
   "source": [
    "# # Создаем общий файл pdf #\n",
    "# os.chdir(path)\n",
    "# print(images[0])\n",
    "# images[0].save('result.pdf', 'PDF', append_images=images[1:], save_all=True)\n",
    "# print(\"Работа программы завершена\")\n",
    "# sleep(3)"
   ]
  },
  {
   "cell_type": "code",
   "execution_count": null,
   "metadata": {},
   "outputs": [],
   "source": [
    "driver = webdriver.Chrome()\n",
    "for i in range(1, 30+1):\n",
    "    driver.get(f\"https://urait.ru/viewer/lineynaya-algebra-535255#page/{i}\")\n",
    "    driver.execute_script(\"document.body.style.zoom='50%'\")\n",
    "    sleep(1)\n",
    "    data = driver.get_screenshot_as_png()\n",
    "    save_image_from_binary(data, f'Page-{i}.png')\n",
    "    im = Image.open(f\"Page-{i}.png\")\n",
    "    new_im = im.crop((800, 100, 1700, 1450))\n",
    "    new_im.save(f\"Result-{i}.png\", quality=100)\n",
    "\n",
    "# Собираем все файлы png #\n",
    "images = []\n",
    "pages = sorted([i for i in os.listdir(path+r'\\\\'+'temp') if 'Result' in i])\n",
    "for i in pages:\n",
    "    images.append(Image.open(path+r'\\\\'+'temp'+r'\\\\'+str(i)))\n",
    "images = [img.convert('RGB') for img in images]\n",
    "# Создаем общий файл pdf #\n",
    "os.chdir(path)\n",
    "images[0].save('result.pdf', 'PDF', append_images=images[1:len(images):1], save_all=True)\n",
    "sleep(3)\n",
    "driver.close()\n",
    "print(\"Работа программы завершена\")\n"
   ]
  },
  {
   "cell_type": "code",
   "execution_count": 46,
   "metadata": {},
   "outputs": [],
   "source": [
    "r =requests.get(\"https://urait.ru/book/teoriya-grafov-algebraicheskaya-teoriya-557688\")\n",
    "data = BeautifulSoup(r.text, 'html.parser')\n",
    "res = data.find(class_=\"book-about-info__info\")"
   ]
  },
  {
   "cell_type": "code",
   "execution_count": null,
   "metadata": {},
   "outputs": [],
   "source": [
    "res.text"
   ]
  },
  {
   "cell_type": "code",
   "execution_count": 48,
   "metadata": {},
   "outputs": [],
   "source": [
    "res_path = os.path.join(os.path.join(os.environ['USERPROFILE']), 'Downloads')\n",
    "path = os.path.join(os.environ['USERPROFILE'])"
   ]
  },
  {
   "cell_type": "code",
   "execution_count": 54,
   "metadata": {},
   "outputs": [],
   "source": [
    "path = path+r'\\temp'"
   ]
  },
  {
   "cell_type": "code",
   "execution_count": 55,
   "metadata": {},
   "outputs": [],
   "source": [
    "os.mkdir(path)\n"
   ]
  },
  {
   "cell_type": "code",
   "execution_count": null,
   "metadata": {},
   "outputs": [],
   "source": [
    "os.remove(path)"
   ]
  },
  {
   "cell_type": "code",
   "execution_count": null,
   "metadata": {},
   "outputs": [],
   "source": []
  }
 ],
 "metadata": {
  "kernelspec": {
   "display_name": "Python 3",
   "language": "python",
   "name": "python3"
  },
  "language_info": {
   "codemirror_mode": {
    "name": "ipython",
    "version": 3
   },
   "file_extension": ".py",
   "mimetype": "text/x-python",
   "name": "python",
   "nbconvert_exporter": "python",
   "pygments_lexer": "ipython3",
   "version": "3.12.7"
  }
 },
 "nbformat": 4,
 "nbformat_minor": 2
}
