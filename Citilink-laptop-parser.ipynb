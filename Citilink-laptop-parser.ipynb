{
 "cells": [
  {
   "cell_type": "code",
   "execution_count": null,
   "metadata": {},
   "outputs": [],
   "source": [
    "from selenium import webdriver\n",
    "from selenium.webdriver.common.keys import Keys\n",
    "from selenium.webdriver.common.by import By\n",
    "from time import sleep\n",
    "import os\n",
    "import pandas as pd\n",
    "import csv\n",
    "import json"
   ]
  },
  {
   "cell_type": "code",
   "execution_count": null,
   "metadata": {},
   "outputs": [],
   "source": [
    "dictionary = dict()\n",
    "driver = webdriver.Chrome()\n",
    "for num in range(1, 22):\n",
    "    driver.get(f\"https://www.citilink.ru/catalog/noutbuki/?p={num}\")\n",
    "    sleep(10)\n",
    "    data = driver.find_elements(By.CLASS_NAME, \"app-catalog-1tp0ino\")\n",
    "    for i in data:\n",
    "        dictionary[i.text.split(', ')[0]]=i.text.split(\", \")[1:]"
   ]
  },
  {
   "cell_type": "code",
   "execution_count": null,
   "metadata": {},
   "outputs": [],
   "source": [
    "os.chdir(r\"C:\\Users\\alexv\\Downloads\")\n",
    "data = json.dumps(dictionary)\n",
    "with open('Laptops.json', mode='w', encoding='utf-8') as file:\n",
    "    file.write(data)"
   ]
  }
 ],
 "metadata": {
  "language_info": {
   "name": "python"
  }
 },
 "nbformat": 4,
 "nbformat_minor": 2
}
